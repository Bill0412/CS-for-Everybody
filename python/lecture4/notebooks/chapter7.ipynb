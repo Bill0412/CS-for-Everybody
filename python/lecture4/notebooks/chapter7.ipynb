{
 "metadata": {
  "language_info": {
   "codemirror_mode": {
    "name": "ipython",
    "version": 3
   },
   "file_extension": ".py",
   "mimetype": "text/x-python",
   "name": "python",
   "nbconvert_exporter": "python",
   "pygments_lexer": "ipython3",
   "version": "3.8.6-final"
  },
  "orig_nbformat": 2,
  "kernelspec": {
   "name": "python386jvsc74a57bd0e750ecf39cce883d7ec5800dc94b1f47c9bd85dfed0e7ac8630bac9718a9f685",
   "display_name": "Python 3.8.6 64-bit ('cruelpeak': conda)"
  },
  "metadata": {
   "interpreter": {
    "hash": "e750ecf39cce883d7ec5800dc94b1f47c9bd85dfed0e7ac8630bac9718a9f685"
   }
  }
 },
 "nbformat": 4,
 "nbformat_minor": 2,
 "cells": [
  {
   "source": [
    "# Chapter 7 Files"
   ],
   "cell_type": "markdown",
   "metadata": {}
  },
  {
   "source": [
    "## 7.2 Opening Files"
   ],
   "cell_type": "markdown",
   "metadata": {}
  },
  {
   "cell_type": "code",
   "execution_count": 1,
   "metadata": {},
   "outputs": [],
   "source": [
    "fhand = open('data/mbox.txt')"
   ]
  },
  {
   "cell_type": "code",
   "execution_count": 2,
   "metadata": {},
   "outputs": [
    {
     "output_type": "stream",
     "name": "stdout",
     "text": [
      "<_io.TextIOWrapper name='data/mbox.txt' mode='r' encoding='UTF-8'>\n"
     ]
    }
   ],
   "source": [
    "print(fhand)"
   ]
  },
  {
   "source": [
    "## 7.3 Test files and lines"
   ],
   "cell_type": "markdown",
   "metadata": {}
  },
  {
   "cell_type": "code",
   "execution_count": 6,
   "metadata": {},
   "outputs": [
    {
     "output_type": "stream",
     "name": "stdout",
     "text": [
      "Hello\nWorld!\n"
     ]
    }
   ],
   "source": [
    " stuff = 'Hello\\nWorld!' # `\\n`: stands for newline\n",
    " print(stuff)"
   ]
  },
  {
   "cell_type": "code",
   "execution_count": 7,
   "metadata": {},
   "outputs": [
    {
     "output_type": "execute_result",
     "data": {
      "text/plain": [
       "12"
      ]
     },
     "metadata": {},
     "execution_count": 7
    }
   ],
   "source": [
    "len(stuff)"
   ]
  },
  {
   "source": [
    "## 7.4 Reading Files"
   ],
   "cell_type": "markdown",
   "metadata": {}
  },
  {
   "cell_type": "code",
   "execution_count": 8,
   "metadata": {},
   "outputs": [
    {
     "output_type": "stream",
     "name": "stdout",
     "text": [
      "There are 20 lines.\n"
     ]
    }
   ],
   "source": [
    "fhand = open('data/mbox.txt')\n",
    "count = 0\n",
    "for line in fhand:\n",
    "    count += 1\n",
    "print('There are {} lines.'.format(count))"
   ]
  },
  {
   "cell_type": "code",
   "execution_count": 13,
   "metadata": {},
   "outputs": [
    {
     "output_type": "stream",
     "name": "stdout",
     "text": [
      "19\n102\n"
     ]
    }
   ],
   "source": [
    "with open('data/mbox.txt') as fhand: \n",
    "    inp = fhand.read() \n",
    "    count = 0\n",
    "    for ch in inp:\n",
    "        if ch == '\\n':\n",
    "            count += 1\n",
    "    print(count)\n",
    "    print(len(inp))"
   ]
  },
  {
   "source": [
    "## 7.5 Searching through a file"
   ],
   "cell_type": "markdown",
   "metadata": {}
  },
  {
   "cell_type": "code",
   "execution_count": 15,
   "metadata": {},
   "outputs": [
    {
     "output_type": "stream",
     "name": "stdout",
     "text": [
      "mail from: test@gmail.com\n\nmail from: test@gmail.com\n\nmail from: test@gmail.com\n\nmail from: test@gmail.com\n\nmail from: test@gmail.com\n\nmail from: test@gmail.com\n\nmail from: test@gmail.com\n\nmail from: test@gmail.com\n\nmail from: test@gmail.com\n\nmail from: test@gmail.com\n\nmail from: test@gmail.com\n\n11\n"
     ]
    }
   ],
   "source": [
    "with open('data/mbox.txt') as fhand: \n",
    "    count = 0\n",
    "    for line in fhand:\n",
    "        if line.startswith('mail from:'):\n",
    "            print(line)\n",
    "            count += 1\n",
    "    print(count)"
   ]
  },
  {
   "source": [
    "## 7.7 File open exception handling"
   ],
   "cell_type": "markdown",
   "metadata": {}
  },
  {
   "cell_type": "code",
   "execution_count": 16,
   "metadata": {},
   "outputs": [
    {
     "output_type": "stream",
     "name": "stdout",
     "text": [
      "file `not exists.txt` is not found!\n"
     ]
    }
   ],
   "source": [
    "filename = 'not exists.txt'\n",
    "try:\n",
    "\n",
    "    with open(filename) as fhand:\n",
    "        print(fhand)\n",
    "except FileNotFoundError:\n",
    "    print('file `{}` is not found!'.format(filename))"
   ]
  },
  {
   "source": [
    "## 7.8 Write Files"
   ],
   "cell_type": "markdown",
   "metadata": {}
  },
  {
   "cell_type": "code",
   "execution_count": 19,
   "metadata": {},
   "outputs": [],
   "source": [
    "with open('data/write.txt', 'w') as txt_file:\n",
    "    txt_file.write(\"hello\\n\")"
   ]
  },
  {
   "source": [
    "### Write JSON Files"
   ],
   "cell_type": "markdown",
   "metadata": {}
  },
  {
   "cell_type": "code",
   "execution_count": 20,
   "metadata": {},
   "outputs": [],
   "source": [
    "d = dict()\n",
    "d['a'] = 'b'"
   ]
  },
  {
   "cell_type": "code",
   "execution_count": 21,
   "metadata": {},
   "outputs": [
    {
     "output_type": "execute_result",
     "data": {
      "text/plain": [
       "{'a': 'b'}"
      ]
     },
     "metadata": {},
     "execution_count": 21
    }
   ],
   "source": [
    "d"
   ]
  },
  {
   "cell_type": "code",
   "execution_count": 23,
   "metadata": {},
   "outputs": [],
   "source": [
    "d['c'] = 'd'"
   ]
  },
  {
   "cell_type": "code",
   "execution_count": 24,
   "metadata": {},
   "outputs": [],
   "source": [
    "d = {\n",
    "    'name': 'Bill',\n",
    "    'Sex': 'Male',\n",
    "    'Hobby': {\n",
    "        'Running': 8,\n",
    "        'Swimming': 7\n",
    "    }\n",
    "}"
   ]
  },
  {
   "cell_type": "code",
   "execution_count": 25,
   "metadata": {},
   "outputs": [
    {
     "output_type": "execute_result",
     "data": {
      "text/plain": [
       "{'name': 'Bill', 'Sex': 'Male', 'Hobby': {'Running': 8, 'Swimming': 7}}"
      ]
     },
     "metadata": {},
     "execution_count": 25
    }
   ],
   "source": [
    "d"
   ]
  },
  {
   "cell_type": "code",
   "execution_count": 28,
   "metadata": {},
   "outputs": [],
   "source": [
    "import json\n",
    "with open('data/bill.json', 'w') as jsonfile:\n",
    "    json.dump(d, jsonfile)\n"
   ]
  },
  {
   "cell_type": "code",
   "execution_count": 30,
   "metadata": {},
   "outputs": [
    {
     "output_type": "stream",
     "name": "stdout",
     "text": [
      "{'name': 'Bill', 'Sex': 'Male', 'Hobby': {'Running': 8, 'Swimming': 7}}\n"
     ]
    }
   ],
   "source": [
    "with open ('data/bill.json') as jsonfile:\n",
    "    d1 = json.load(jsonfile)\n",
    "    print(d1)"
   ]
  },
  {
   "cell_type": "code",
   "execution_count": null,
   "metadata": {},
   "outputs": [],
   "source": []
  }
 ]
}